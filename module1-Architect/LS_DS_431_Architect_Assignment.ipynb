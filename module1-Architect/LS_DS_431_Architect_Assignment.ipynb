{
  "nbformat": 4,
  "nbformat_minor": 0,
  "metadata": {
    "colab": {
      "name": " LS_DS_432_TensorFlow_Assignment",
      "provenance": [],
      "collapsed_sections": [],
      "toc_visible": true,
      "include_colab_link": true
    },
    "kernelspec": {
      "name": "python3",
      "display_name": "Python 3"
    },
    "accelerator": "GPU"
  },
  "cells": [
    {
      "cell_type": "markdown",
      "metadata": {
        "id": "view-in-github",
        "colab_type": "text"
      },
      "source": [
        "<a href=\"https://colab.research.google.com/github/jordantcarlisle/DS-Unit-4-Sprint-2-Neural-Networks/blob/main/module1-Architect/LS_DS_431_Architect_Assignment.ipynb\" target=\"_parent\"><img src=\"https://colab.research.google.com/assets/colab-badge.svg\" alt=\"Open In Colab\"/></a>"
      ]
    },
    {
      "cell_type": "markdown",
      "metadata": {
        "id": "ObyHCH8HvHSf"
      },
      "source": [
        "<img align=\"left\" src=\"https://lever-client-logos.s3.amazonaws.com/864372b1-534c-480e-acd5-9711f850815c-1524247202159.png\" width=200>\n",
        "<br></br>\n",
        "<br></br>\n",
        "\n",
        "# *Data Science Unit 4 Sprint 2 Assignment 1*\n",
        "\n",
        "Use TensorFlow Keras & a sample of the [Quickdraw dataset](https://github.com/googlecreativelab/quickdraw-dataset) to build a sketch classification model. The dataset has been sampled to only 10 classes and 10000 observations per class. Please build a baseline classification model then run a few experiments with different optimizers and learning rates. \n",
        "\n",
        "*Don't forgot to switch to GPU on Colab!*"
      ]
    },
    {
      "cell_type": "markdown",
      "metadata": {
        "id": "s-Tc3ovEyQ9b"
      },
      "source": [
        "## Load Your Data"
      ]
    },
    {
      "cell_type": "code",
      "metadata": {
        "id": "CkU0pAYCvU8o",
        "outputId": "4bbf3cb0-f139-42b9-a758-3c4a047d8f15",
        "colab": {
          "base_uri": "https://localhost:8080/"
        }
      },
      "source": [
        "import numpy as np\n",
        "import tensorflow as tf \n",
        "\n",
        "data = np.load('quickdraw10.npz')\n",
        "X = data['arr_0']\n",
        "y = data['arr_1']\n",
        "\n",
        "print(X.shape)\n",
        "print(y.shape)"
      ],
      "execution_count": 2,
      "outputs": [
        {
          "output_type": "stream",
          "text": [
            "(100000, 784)\n",
            "(100000,)\n"
          ],
          "name": "stdout"
        }
      ]
    },
    {
      "cell_type": "code",
      "metadata": {
        "id": "c8qsDqdqvHDd"
      },
      "source": [
        "class_names = ['apple',\n",
        " 'anvil',\n",
        " 'airplane',\n",
        " 'banana',\n",
        " 'The Eiffel Tower',\n",
        " 'The Mona Lisa',\n",
        " 'The Great Wall of China',\n",
        " 'alarm clock',\n",
        " 'ant',\n",
        " 'asparagus']"
      ],
      "execution_count": 3,
      "outputs": []
    },
    {
      "cell_type": "code",
      "metadata": {
        "id": "Owbm1EbxvA5A",
        "outputId": "c6fac8f3-22e0-47c6-cb0f-e5a2684ca52e",
        "colab": {
          "base_uri": "https://localhost:8080/",
          "height": 289
        }
      },
      "source": [
        "import matplotlib.pyplot as plt\n",
        "plt.figure(figsize=(10,5))\n",
        "start = 0\n",
        "\n",
        "for num, name in enumerate(class_names):\n",
        "    plt.subplot(2,5, num+1)\n",
        "    plt.xticks([])\n",
        "    plt.yticks([])\n",
        "    plt.grid(False)\n",
        "    plt.imshow(X[start].reshape(28,28), cmap=plt.cm.binary)\n",
        "    plt.xlabel(name)\n",
        "    start += 10000\n",
        "plt.show()"
      ],
      "execution_count": 4,
      "outputs": [
        {
          "output_type": "display_data",
          "data": {
            "image/png": "[encoded data removed]",
            "text/plain": [
              "<Figure size 720x360 with 10 Axes>"
            ]
          },
          "metadata": {
            "tags": []
          }
        }
      ]
    },
    {
      "cell_type": "code",
      "metadata": {
        "id": "c97_M1WNvTNY"
      },
      "source": [
        "# Need this line to randomly shuffle both the X & y at the same time.\n",
        "\n",
        "from sklearn.utils import shuffle\n",
        "X, y = shuffle(X, y)"
      ],
      "execution_count": 5,
      "outputs": []
    },
    {
      "cell_type": "markdown",
      "metadata": {
        "id": "jb70CbLVyK65"
      },
      "source": [
        "## Build Your Baseline Model\n",
        "Some Hints:\n",
        "\n",
        "\n",
        "*  Model should have 784 input values (like mnist)\n",
        "*  Use `sparse_categorical_crossentropy` as your loss function.\n",
        "* You need 10 neurons in your last layer for output\n",
        "* You can add as many hidden layers with as many neurons in them as you like. \n",
        "* Limit your model epochs to 30 each time you fit.\n",
        "* You can use the `validation_split` command to automatically create a training / validation dataset.  Specify a percentage such as .2 in your fit statement. \n",
        "\n"
      ]
    },
    {
      "cell_type": "code",
      "metadata": {
        "id": "zHWblzsMyNkU",
        "outputId": "3df970fd-6cfe-4cfe-ae20-9ba8648ef699",
        "colab": {
          "base_uri": "https://localhost:8080/"
        }
      },
      "source": [
        "from tensorflow.keras.models import Sequential\n",
        "from tensorflow.keras.layers import Dense, Dropout\n",
        "\n",
        "model = Sequential([\n",
        "    Dense(64, activation='relu', input_dim=784, name='input_dense_64'),\n",
        "    Dense(32, activation='relu'),\n",
        "    Dense(10, activation='softmax')\n",
        "])\n",
        "\n",
        "model.compile(loss='sparse_categorical_crossentropy',\n",
        "              optimizer='sgd',\n",
        "              metrics=['accuracy'])\n",
        "\n",
        "model.summary()"
      ],
      "execution_count": 7,
      "outputs": [
        {
          "output_type": "stream",
          "text": [
            "Model: \"sequential\"\n",
            "_________________________________________________________________\n",
            "Layer (type)                 Output Shape              Param #   \n",
            "=================================================================\n",
            "input_dense_64 (Dense)       (None, 64)                50240     \n",
            "_________________________________________________________________\n",
            "dense (Dense)                (None, 32)                2080      \n",
            "_________________________________________________________________\n",
            "dense_1 (Dense)              (None, 10)                330       \n",
            "=================================================================\n",
            "Total params: 52,650\n",
            "Trainable params: 52,650\n",
            "Non-trainable params: 0\n",
            "_________________________________________________________________\n"
          ],
          "name": "stdout"
        }
      ]
    },
    {
      "cell_type": "code",
      "metadata": {
        "id": "-47mgLP3opNE",
        "outputId": "44012a21-a52d-405f-8fc6-0d727dc1c2d2",
        "colab": {
          "base_uri": "https://localhost:8080/"
        }
      },
      "source": [
        "baseline = model.fit(X, y,\n",
        "          epochs=30,\n",
        "          validation_split=0.2)"
      ],
      "execution_count": 16,
      "outputs": [
        {
          "output_type": "stream",
          "text": [
            "Epoch 1/30\n",
            "2500/2500 [==============================] - 5s 2ms/step - loss: 2.3027 - accuracy: 0.0983 - val_loss: 2.3026 - val_accuracy: 0.0996\n",
            "Epoch 2/30\n",
            "2500/2500 [==============================] - 5s 2ms/step - loss: 2.3027 - accuracy: 0.0994 - val_loss: 2.3026 - val_accuracy: 0.0971\n",
            "Epoch 3/30\n",
            "2500/2500 [==============================] - 5s 2ms/step - loss: 2.3027 - accuracy: 0.0998 - val_loss: 2.3026 - val_accuracy: 0.0996\n",
            "Epoch 4/30\n",
            "2500/2500 [==============================] - 5s 2ms/step - loss: 2.3027 - accuracy: 0.0981 - val_loss: 2.3026 - val_accuracy: 0.0971\n",
            "Epoch 5/30\n",
            "2500/2500 [==============================] - 5s 2ms/step - loss: 2.3027 - accuracy: 0.1003 - val_loss: 2.3025 - val_accuracy: 0.0971\n",
            "Epoch 6/30\n",
            "2500/2500 [==============================] - 5s 2ms/step - loss: 2.3027 - accuracy: 0.0978 - val_loss: 2.3026 - val_accuracy: 0.1009\n",
            "Epoch 7/30\n",
            "2500/2500 [==============================] - 5s 2ms/step - loss: 2.3027 - accuracy: 0.0988 - val_loss: 2.3027 - val_accuracy: 0.0978\n",
            "Epoch 8/30\n",
            "2500/2500 [==============================] - 5s 2ms/step - loss: 2.3027 - accuracy: 0.1015 - val_loss: 2.3025 - val_accuracy: 0.0978\n",
            "Epoch 9/30\n",
            "2500/2500 [==============================] - 5s 2ms/step - loss: 2.3027 - accuracy: 0.0991 - val_loss: 2.3025 - val_accuracy: 0.0987\n",
            "Epoch 10/30\n",
            "2500/2500 [==============================] - 5s 2ms/step - loss: 2.3027 - accuracy: 0.0985 - val_loss: 2.3026 - val_accuracy: 0.0987\n",
            "Epoch 11/30\n",
            "2500/2500 [==============================] - 5s 2ms/step - loss: 2.3027 - accuracy: 0.0999 - val_loss: 2.3026 - val_accuracy: 0.0978\n",
            "Epoch 12/30\n",
            "2500/2500 [==============================] - 5s 2ms/step - loss: 2.3027 - accuracy: 0.0991 - val_loss: 2.3026 - val_accuracy: 0.0978\n",
            "Epoch 13/30\n",
            "2500/2500 [==============================] - 5s 2ms/step - loss: 2.3027 - accuracy: 0.0986 - val_loss: 2.3026 - val_accuracy: 0.0971\n",
            "Epoch 14/30\n",
            "2500/2500 [==============================] - 5s 2ms/step - loss: 2.3027 - accuracy: 0.1001 - val_loss: 2.3025 - val_accuracy: 0.0987\n",
            "Epoch 15/30\n",
            "2500/2500 [==============================] - 5s 2ms/step - loss: 2.3027 - accuracy: 0.0990 - val_loss: 2.3026 - val_accuracy: 0.0987\n",
            "Epoch 16/30\n",
            "2500/2500 [==============================] - 5s 2ms/step - loss: 2.3027 - accuracy: 0.0978 - val_loss: 2.3025 - val_accuracy: 0.0989\n",
            "Epoch 17/30\n",
            "2500/2500 [==============================] - 5s 2ms/step - loss: 2.3027 - accuracy: 0.1000 - val_loss: 2.3025 - val_accuracy: 0.0989\n",
            "Epoch 18/30\n",
            "2500/2500 [==============================] - 5s 2ms/step - loss: 2.3027 - accuracy: 0.0996 - val_loss: 2.3026 - val_accuracy: 0.0978\n",
            "Epoch 19/30\n",
            "2500/2500 [==============================] - 5s 2ms/step - loss: 2.3027 - accuracy: 0.0997 - val_loss: 2.3026 - val_accuracy: 0.0978\n",
            "Epoch 20/30\n",
            "2500/2500 [==============================] - 5s 2ms/step - loss: 2.3027 - accuracy: 0.0993 - val_loss: 2.3026 - val_accuracy: 0.0978\n",
            "Epoch 21/30\n",
            "2500/2500 [==============================] - 5s 2ms/step - loss: 2.3027 - accuracy: 0.0997 - val_loss: 2.3025 - val_accuracy: 0.0978\n",
            "Epoch 22/30\n",
            "2500/2500 [==============================] - 5s 2ms/step - loss: 2.3027 - accuracy: 0.1001 - val_loss: 2.3025 - val_accuracy: 0.1032\n",
            "Epoch 23/30\n",
            "2500/2500 [==============================] - 5s 2ms/step - loss: 2.3027 - accuracy: 0.0989 - val_loss: 2.3026 - val_accuracy: 0.0989\n",
            "Epoch 24/30\n",
            "2500/2500 [==============================] - 5s 2ms/step - loss: 2.3027 - accuracy: 0.0992 - val_loss: 2.3026 - val_accuracy: 0.0987\n",
            "Epoch 25/30\n",
            "2500/2500 [==============================] - 5s 2ms/step - loss: 2.3027 - accuracy: 0.1009 - val_loss: 2.3026 - val_accuracy: 0.0996\n",
            "Epoch 26/30\n",
            "2500/2500 [==============================] - 5s 2ms/step - loss: 2.3027 - accuracy: 0.0981 - val_loss: 2.3026 - val_accuracy: 0.0971\n",
            "Epoch 27/30\n",
            "2500/2500 [==============================] - 5s 2ms/step - loss: 2.3027 - accuracy: 0.0988 - val_loss: 2.3026 - val_accuracy: 0.0971\n",
            "Epoch 28/30\n",
            "2500/2500 [==============================] - 6s 2ms/step - loss: 2.3027 - accuracy: 0.0984 - val_loss: 2.3026 - val_accuracy: 0.0978\n",
            "Epoch 29/30\n",
            "2500/2500 [==============================] - 6s 2ms/step - loss: 2.3027 - accuracy: 0.0999 - val_loss: 2.3025 - val_accuracy: 0.0987\n",
            "Epoch 30/30\n",
            "2500/2500 [==============================] - 5s 2ms/step - loss: 2.3027 - accuracy: 0.0983 - val_loss: 2.3027 - val_accuracy: 0.0978\n"
          ],
          "name": "stdout"
        }
      ]
    },
    {
      "cell_type": "markdown",
      "metadata": {
        "id": "b0QJURWh-9uv"
      },
      "source": [
        "### Visualize the results\n",
        "\n",
        "Create charts for both loss and accuracy by epoch. Use line graphs for both charts. Analyze the results. \n",
        "\n",
        "At what point should we have stopped training the model and why? "
      ]
    },
    {
      "cell_type": "code",
      "metadata": {
        "id": "KONJtU5wqlXf",
        "outputId": "00e874b3-92c1-4b27-e86d-f15479320cb5",
        "colab": {
          "base_uri": "https://localhost:8080/"
        }
      },
      "source": [
        "baseline.history"
      ],
      "execution_count": 17,
      "outputs": [
        {
          "output_type": "execute_result",
          "data": {
            "text/plain": [
              "{'accuracy': [0.0982624962925911,\n",
              "  0.09943749755620956,\n",
              "  0.09976249933242798,\n",
              "  0.09808749705553055,\n",
              "  0.1003125011920929,\n",
              "  0.09782499819993973,\n",
              "  0.09883750230073929,\n",
              "  0.10146249830722809,\n",
              "  0.09905000030994415,\n",
              "  0.09852500259876251,\n",
              "  0.09988749772310257,\n",
              "  0.09905000030994415,\n",
              "  0.09856250137090683,\n",
              "  0.10007499903440475,\n",
              "  0.09902500361204147,\n",
              "  0.09781250357627869,\n",
              "  0.10003750026226044,\n",
              "  0.09960000216960907,\n",
              "  0.09969999641180038,\n",
              "  0.0992875024676323,\n",
              "  0.09965000301599503,\n",
              "  0.10014999657869339,\n",
              "  0.09892500191926956,\n",
              "  0.09915000200271606,\n",
              "  0.10092499852180481,\n",
              "  0.0981374979019165,\n",
              "  0.09884999692440033,\n",
              "  0.09835000336170197,\n",
              "  0.09993749856948853,\n",
              "  0.09825000166893005],\n",
              " 'loss': [2.3026928901672363,\n",
              "  2.3026788234710693,\n",
              "  2.302685260772705,\n",
              "  2.3026950359344482,\n",
              "  2.302673101425171,\n",
              "  2.3026907444000244,\n",
              "  2.3026669025421143,\n",
              "  2.3026833534240723,\n",
              "  2.3026862144470215,\n",
              "  2.30267333984375,\n",
              "  2.3026673793792725,\n",
              "  2.3026764392852783,\n",
              "  2.30269455909729,\n",
              "  2.3026857376098633,\n",
              "  2.3026649951934814,\n",
              "  2.3026881217956543,\n",
              "  2.302677631378174,\n",
              "  2.302677631378174,\n",
              "  2.302683115005493,\n",
              "  2.3026788234710693,\n",
              "  2.302677631378174,\n",
              "  2.3026678562164307,\n",
              "  2.302687406539917,\n",
              "  2.3026833534240723,\n",
              "  2.3026716709136963,\n",
              "  2.302684783935547,\n",
              "  2.302678108215332,\n",
              "  2.3026764392852783,\n",
              "  2.3026719093322754,\n",
              "  2.3026838302612305],\n",
              " 'val_accuracy': [0.09960000216960907,\n",
              "  0.09709999710321426,\n",
              "  0.09960000216960907,\n",
              "  0.09709999710321426,\n",
              "  0.09709999710321426,\n",
              "  0.10090000182390213,\n",
              "  0.09775000065565109,\n",
              "  0.09775000065565109,\n",
              "  0.09870000183582306,\n",
              "  0.09870000183582306,\n",
              "  0.09775000065565109,\n",
              "  0.09775000065565109,\n",
              "  0.09709999710321426,\n",
              "  0.09870000183582306,\n",
              "  0.09870000183582306,\n",
              "  0.09894999861717224,\n",
              "  0.09894999861717224,\n",
              "  0.09775000065565109,\n",
              "  0.09775000065565109,\n",
              "  0.09775000065565109,\n",
              "  0.09775000065565109,\n",
              "  0.10320000350475311,\n",
              "  0.09894999861717224,\n",
              "  0.09870000183582306,\n",
              "  0.09960000216960907,\n",
              "  0.09709999710321426,\n",
              "  0.09709999710321426,\n",
              "  0.09775000065565109,\n",
              "  0.09870000183582306,\n",
              "  0.09775000065565109],\n",
              " 'val_loss': [2.302612543106079,\n",
              "  2.302603006362915,\n",
              "  2.302553176879883,\n",
              "  2.3025999069213867,\n",
              "  2.3025224208831787,\n",
              "  2.302647352218628,\n",
              "  2.3026702404022217,\n",
              "  2.3025319576263428,\n",
              "  2.3025331497192383,\n",
              "  2.3026041984558105,\n",
              "  2.3026063442230225,\n",
              "  2.3025872707366943,\n",
              "  2.302619457244873,\n",
              "  2.3025364875793457,\n",
              "  2.3026137351989746,\n",
              "  2.3025200366973877,\n",
              "  2.302536964416504,\n",
              "  2.302633762359619,\n",
              "  2.302614212036133,\n",
              "  2.3025941848754883,\n",
              "  2.302536725997925,\n",
              "  2.3024582862854004,\n",
              "  2.3026070594787598,\n",
              "  2.3026020526885986,\n",
              "  2.3025739192962646,\n",
              "  2.3025705814361572,\n",
              "  2.302577257156372,\n",
              "  2.302586793899536,\n",
              "  2.302548408508301,\n",
              "  2.302657127380371]}"
            ]
          },
          "metadata": {
            "tags": []
          },
          "execution_count": 17
        }
      ]
    },
    {
      "cell_type": "code",
      "metadata": {
        "id": "ijAlzfYKAFaY",
        "outputId": "9cf75d1c-59f7-446b-ed07-a1dba72483ca",
        "colab": {
          "base_uri": "https://localhost:8080/",
          "height": 290
        }
      },
      "source": [
        "import seaborn as sns\n",
        "import pandas as pd\n",
        "\n",
        "df = pd.DataFrame.from_records(baseline.history)\n",
        "df['epoch'] = [i for i in range(df.shape[0])]\n",
        "\n",
        "ax = sns.lineplot(x='epoch', y='val_loss', data=df)\n",
        "ax = sns.lineplot(x='epoch', y='loss', data=df);"
      ],
      "execution_count": 18,
      "outputs": [
        {
          "output_type": "display_data",
          "data": {
            "image/png": "[encoded data removed]",
            "text/plain": [
              "<Figure size 432x288 with 1 Axes>"
            ]
          },
          "metadata": {
            "tags": [],
            "needs_background": "light"
          }
        }
      ]
    },
    {
      "cell_type": "markdown",
      "metadata": {
        "id": "MAhBrcE4yOZe"
      },
      "source": [
        "## Change Optimizers\n",
        "Try using the keras `adam` optimizer instead of `sgd` in your model. Visualize the difference in validation loss between the models with different optimizers. "
      ]
    },
    {
      "cell_type": "code",
      "metadata": {
        "id": "3CRHUzSDqXV0"
      },
      "source": [
        "import tensorflow as tf\n"
      ],
      "execution_count": 19,
      "outputs": []
    },
    {
      "cell_type": "code",
      "metadata": {
        "id": "jIW_spOZ0cxy",
        "outputId": "dc7ab615-72de-419b-d553-8cc7f8509951",
        "colab": {
          "base_uri": "https://localhost:8080/"
        }
      },
      "source": [
        "model = Sequential([\n",
        "    Dense(64, activation='relu', input_dim=784, name='input_dense_64'),\n",
        "    Dense(32, activation='relu'),\n",
        "    Dense(10, activation='softmax')\n",
        "])\n",
        "\n",
        "model.compile(loss='sparse_categorical_crossentropy',\n",
        "              optimizer='adam',\n",
        "              metrics=['accuracy'])\n",
        "\n",
        "model.summary()"
      ],
      "execution_count": 22,
      "outputs": [
        {
          "output_type": "stream",
          "text": [
            "Model: \"sequential_1\"\n",
            "_________________________________________________________________\n",
            "Layer (type)                 Output Shape              Param #   \n",
            "=================================================================\n",
            "input_dense_64 (Dense)       (None, 64)                50240     \n",
            "_________________________________________________________________\n",
            "dense_2 (Dense)              (None, 32)                2080      \n",
            "_________________________________________________________________\n",
            "dense_3 (Dense)              (None, 10)                330       \n",
            "=================================================================\n",
            "Total params: 52,650\n",
            "Trainable params: 52,650\n",
            "Non-trainable params: 0\n",
            "_________________________________________________________________\n"
          ],
          "name": "stdout"
        }
      ]
    },
    {
      "cell_type": "code",
      "metadata": {
        "id": "46Ta7IOhtNP1",
        "outputId": "2851413f-9c92-46bc-9e50-e3a7f406ab5a",
        "colab": {
          "base_uri": "https://localhost:8080/"
        }
      },
      "source": [
        "baseline = model.fit(X, y,\n",
        "          epochs=30,\n",
        "          validation_split=0.2)"
      ],
      "execution_count": 23,
      "outputs": [
        {
          "output_type": "stream",
          "text": [
            "Epoch 1/30\n",
            "2500/2500 [==============================] - 5s 2ms/step - loss: 2.3592 - accuracy: 0.4738 - val_loss: 1.2071 - val_accuracy: 0.5917\n",
            "Epoch 2/30\n",
            "2500/2500 [==============================] - 5s 2ms/step - loss: 1.0109 - accuracy: 0.6836 - val_loss: 0.8004 - val_accuracy: 0.7671\n",
            "Epoch 3/30\n",
            "2500/2500 [==============================] - 6s 2ms/step - loss: 0.7324 - accuracy: 0.7812 - val_loss: 0.6909 - val_accuracy: 0.7965\n",
            "Epoch 4/30\n",
            "2500/2500 [==============================] - 5s 2ms/step - loss: 0.6484 - accuracy: 0.8052 - val_loss: 0.6539 - val_accuracy: 0.8043\n",
            "Epoch 5/30\n",
            "2500/2500 [==============================] - 5s 2ms/step - loss: 0.6077 - accuracy: 0.8171 - val_loss: 0.6404 - val_accuracy: 0.8122\n",
            "Epoch 6/30\n",
            "2500/2500 [==============================] - 5s 2ms/step - loss: 0.5753 - accuracy: 0.8284 - val_loss: 0.6173 - val_accuracy: 0.8222\n",
            "Epoch 7/30\n",
            "2500/2500 [==============================] - 6s 2ms/step - loss: 0.5547 - accuracy: 0.8356 - val_loss: 0.5963 - val_accuracy: 0.8287\n",
            "Epoch 8/30\n",
            "2500/2500 [==============================] - 6s 2ms/step - loss: 0.5366 - accuracy: 0.8419 - val_loss: 0.6049 - val_accuracy: 0.8272\n",
            "Epoch 9/30\n",
            "2500/2500 [==============================] - 5s 2ms/step - loss: 0.5205 - accuracy: 0.8466 - val_loss: 0.6073 - val_accuracy: 0.8288\n",
            "Epoch 10/30\n",
            "2500/2500 [==============================] - 5s 2ms/step - loss: 0.5080 - accuracy: 0.8509 - val_loss: 0.5859 - val_accuracy: 0.8343\n",
            "Epoch 11/30\n",
            "2500/2500 [==============================] - 5s 2ms/step - loss: 0.4969 - accuracy: 0.8538 - val_loss: 0.5758 - val_accuracy: 0.8370\n",
            "Epoch 12/30\n",
            "2500/2500 [==============================] - 5s 2ms/step - loss: 0.4880 - accuracy: 0.8568 - val_loss: 0.6030 - val_accuracy: 0.8304\n",
            "Epoch 13/30\n",
            "2500/2500 [==============================] - 5s 2ms/step - loss: 0.4774 - accuracy: 0.8606 - val_loss: 0.6022 - val_accuracy: 0.8360\n",
            "Epoch 14/30\n",
            "2500/2500 [==============================] - 5s 2ms/step - loss: 0.4720 - accuracy: 0.8612 - val_loss: 0.6018 - val_accuracy: 0.8309\n",
            "Epoch 15/30\n",
            "2500/2500 [==============================] - 5s 2ms/step - loss: 0.4646 - accuracy: 0.8638 - val_loss: 0.5932 - val_accuracy: 0.8392\n",
            "Epoch 16/30\n",
            "2500/2500 [==============================] - 5s 2ms/step - loss: 0.4579 - accuracy: 0.8666 - val_loss: 0.6262 - val_accuracy: 0.8305\n",
            "Epoch 17/30\n",
            "2500/2500 [==============================] - 5s 2ms/step - loss: 0.4522 - accuracy: 0.8683 - val_loss: 0.6109 - val_accuracy: 0.8340\n",
            "Epoch 18/30\n",
            "2500/2500 [==============================] - 5s 2ms/step - loss: 0.4454 - accuracy: 0.8697 - val_loss: 0.6179 - val_accuracy: 0.8373\n",
            "Epoch 19/30\n",
            "2500/2500 [==============================] - 5s 2ms/step - loss: 0.4397 - accuracy: 0.8717 - val_loss: 0.6376 - val_accuracy: 0.8316\n",
            "Epoch 20/30\n",
            "2500/2500 [==============================] - 5s 2ms/step - loss: 0.4345 - accuracy: 0.8730 - val_loss: 0.6265 - val_accuracy: 0.8371\n",
            "Epoch 21/30\n",
            "2500/2500 [==============================] - 5s 2ms/step - loss: 0.4292 - accuracy: 0.8756 - val_loss: 0.6321 - val_accuracy: 0.8335\n",
            "Epoch 22/30\n",
            "2500/2500 [==============================] - 5s 2ms/step - loss: 0.4240 - accuracy: 0.8767 - val_loss: 0.6395 - val_accuracy: 0.8290\n",
            "Epoch 23/30\n",
            "2500/2500 [==============================] - 5s 2ms/step - loss: 0.4198 - accuracy: 0.8765 - val_loss: 0.6238 - val_accuracy: 0.8341\n",
            "Epoch 24/30\n",
            "2500/2500 [==============================] - 5s 2ms/step - loss: 0.4181 - accuracy: 0.8786 - val_loss: 0.6601 - val_accuracy: 0.8372\n",
            "Epoch 25/30\n",
            "2500/2500 [==============================] - 5s 2ms/step - loss: 0.4162 - accuracy: 0.8792 - val_loss: 0.6582 - val_accuracy: 0.8286\n",
            "Epoch 26/30\n",
            "2500/2500 [==============================] - 6s 2ms/step - loss: 0.4130 - accuracy: 0.8795 - val_loss: 0.6474 - val_accuracy: 0.8346\n",
            "Epoch 27/30\n",
            "2500/2500 [==============================] - 5s 2ms/step - loss: 0.4087 - accuracy: 0.8805 - val_loss: 0.7265 - val_accuracy: 0.8343\n",
            "Epoch 28/30\n",
            "2500/2500 [==============================] - 5s 2ms/step - loss: 0.4038 - accuracy: 0.8826 - val_loss: 0.6564 - val_accuracy: 0.8332\n",
            "Epoch 29/30\n",
            "2500/2500 [==============================] - 5s 2ms/step - loss: 0.4010 - accuracy: 0.8841 - val_loss: 0.6725 - val_accuracy: 0.8335\n",
            "Epoch 30/30\n",
            "2500/2500 [==============================] - 5s 2ms/step - loss: 0.4004 - accuracy: 0.8836 - val_loss: 0.6616 - val_accuracy: 0.8302\n"
          ],
          "name": "stdout"
        }
      ]
    },
    {
      "cell_type": "code",
      "metadata": {
        "id": "4LXptb8st4Gd",
        "outputId": "ad708ed7-87fe-45f9-e289-cb275de6d2f7",
        "colab": {
          "base_uri": "https://localhost:8080/"
        }
      },
      "source": [
        "baseline.history"
      ],
      "execution_count": 24,
      "outputs": [
        {
          "output_type": "execute_result",
          "data": {
            "text/plain": [
              "{'accuracy': [0.47376251220703125,\n",
              "  0.6835625171661377,\n",
              "  0.7811625003814697,\n",
              "  0.8052250146865845,\n",
              "  0.8171499967575073,\n",
              "  0.828374981880188,\n",
              "  0.8356249928474426,\n",
              "  0.8418624997138977,\n",
              "  0.8466249704360962,\n",
              "  0.8509125113487244,\n",
              "  0.8538249731063843,\n",
              "  0.8568124771118164,\n",
              "  0.8606374859809875,\n",
              "  0.8612124919891357,\n",
              "  0.8637999892234802,\n",
              "  0.8666250109672546,\n",
              "  0.8682500123977661,\n",
              "  0.8697124719619751,\n",
              "  0.8716624975204468,\n",
              "  0.8730124831199646,\n",
              "  0.8755750060081482,\n",
              "  0.8766999840736389,\n",
              "  0.8765249848365784,\n",
              "  0.8785625100135803,\n",
              "  0.8791999816894531,\n",
              "  0.879462480545044,\n",
              "  0.8804875016212463,\n",
              "  0.8826000094413757,\n",
              "  0.8840500116348267,\n",
              "  0.8835750222206116],\n",
              " 'loss': [2.359217882156372,\n",
              "  1.0109307765960693,\n",
              "  0.732360303401947,\n",
              "  0.6484110951423645,\n",
              "  0.6076634526252747,\n",
              "  0.575301468372345,\n",
              "  0.5546565651893616,\n",
              "  0.536609411239624,\n",
              "  0.5205332040786743,\n",
              "  0.5080157518386841,\n",
              "  0.496891587972641,\n",
              "  0.48804229497909546,\n",
              "  0.4774453639984131,\n",
              "  0.4719625413417816,\n",
              "  0.46456533670425415,\n",
              "  0.4579164981842041,\n",
              "  0.4521791934967041,\n",
              "  0.44540640711784363,\n",
              "  0.4396626353263855,\n",
              "  0.4345378875732422,\n",
              "  0.4292418360710144,\n",
              "  0.424011766910553,\n",
              "  0.41983145475387573,\n",
              "  0.41807132959365845,\n",
              "  0.41621822118759155,\n",
              "  0.4130493104457855,\n",
              "  0.4086777865886688,\n",
              "  0.4037868082523346,\n",
              "  0.4009770154953003,\n",
              "  0.4004422128200531],\n",
              " 'val_accuracy': [0.59170001745224,\n",
              "  0.76705002784729,\n",
              "  0.7965499758720398,\n",
              "  0.8043000102043152,\n",
              "  0.8121500015258789,\n",
              "  0.8222000002861023,\n",
              "  0.8287000060081482,\n",
              "  0.8271999955177307,\n",
              "  0.8288499712944031,\n",
              "  0.8342999815940857,\n",
              "  0.8370000123977661,\n",
              "  0.8303999900817871,\n",
              "  0.8360000252723694,\n",
              "  0.8309000134468079,\n",
              "  0.8391500115394592,\n",
              "  0.8305000066757202,\n",
              "  0.8339999914169312,\n",
              "  0.8373000025749207,\n",
              "  0.83160001039505,\n",
              "  0.8370500206947327,\n",
              "  0.8335000276565552,\n",
              "  0.8289999961853027,\n",
              "  0.8341000080108643,\n",
              "  0.8371999859809875,\n",
              "  0.8286499977111816,\n",
              "  0.8345999717712402,\n",
              "  0.8342999815940857,\n",
              "  0.8331500291824341,\n",
              "  0.8334500193595886,\n",
              "  0.8301500082015991],\n",
              " 'val_loss': [1.2071300745010376,\n",
              "  0.8003981709480286,\n",
              "  0.6908596158027649,\n",
              "  0.6539055705070496,\n",
              "  0.6403529047966003,\n",
              "  0.6172546148300171,\n",
              "  0.596308708190918,\n",
              "  0.6049486994743347,\n",
              "  0.6073250770568848,\n",
              "  0.5859394669532776,\n",
              "  0.5757594108581543,\n",
              "  0.6030442118644714,\n",
              "  0.6021645665168762,\n",
              "  0.6017941236495972,\n",
              "  0.5931752920150757,\n",
              "  0.6262150406837463,\n",
              "  0.6108949184417725,\n",
              "  0.6179440021514893,\n",
              "  0.637649416923523,\n",
              "  0.6265280842781067,\n",
              "  0.6320974826812744,\n",
              "  0.63948655128479,\n",
              "  0.6238386034965515,\n",
              "  0.6601199507713318,\n",
              "  0.6581974625587463,\n",
              "  0.6474094390869141,\n",
              "  0.7265222668647766,\n",
              "  0.6564181447029114,\n",
              "  0.672484278678894,\n",
              "  0.6615606546401978]}"
            ]
          },
          "metadata": {
            "tags": []
          },
          "execution_count": 24
        }
      ]
    },
    {
      "cell_type": "code",
      "metadata": {
        "id": "4KD4WbNEt_OL",
        "outputId": "033ad362-ae83-42f7-d97f-fcaed8e69f02",
        "colab": {
          "base_uri": "https://localhost:8080/",
          "height": 279
        }
      },
      "source": [
        "df = pd.DataFrame.from_records(baseline.history)\n",
        "df['epoch'] = [i for i in range(df.shape[0])]\n",
        "\n",
        "ax = sns.lineplot(x='epoch', y='val_loss', data=df)\n",
        "ax = sns.lineplot(x='epoch', y='loss', data=df);"
      ],
      "execution_count": 25,
      "outputs": [
        {
          "output_type": "display_data",
          "data": {
            "image/png": "[encoded data removed]",
            "text/plain": [
              "<Figure size 432x288 with 1 Axes>"
            ]
          },
          "metadata": {
            "tags": [],
            "needs_background": "light"
          }
        }
      ]
    },
    {
      "cell_type": "markdown",
      "metadata": {
        "id": "EJrbh3qryi4w"
      },
      "source": [
        "### Additional Written Tasks:\n",
        "In this section, you will need to search for resources: \n",
        "1. Investigate the various [loss functions](https://www.tensorflow.org/api_docs/python/tf/keras/losses). Which is best suited for the task at hand (predicting 1 / 0) and why? \n",
        "\n",
        "A *logistic activation* function works well for binary binary classification problems. \n",
        "\n",
        "2. What is the difference between a loss function and a metric? Why might we need both in Keras? \n",
        "\n",
        "The loss function is what you measure to evaluation the optimization of a model, where the metric is what you use to measure the accuracy of the model. \n",
        "\n",
        "3. Investigate the various [optimizers](https://www.tensorflow.org/api_docs/python/tf/keras/optimizers). Stochastic Gradient Descent (`sgd`) is not the learning algorithm dejour anyone. Why is that? What do newer optimizers such as `adam` have to offer? \n",
        "\n",
        "I'm not sure but it seems like there are more sofisticated techniques that incorporate rule based decisions depending on the direction of the loss function and metric that tunes the model in between epochs. "
      ]
    },
    {
      "cell_type": "markdown",
      "metadata": {
        "id": "Gzs4fd-RynDd"
      },
      "source": [
        "## Stretch Goals: \n",
        "\n",
        "- Research convolutional neural networks and try including convolution layers in your network.\n",
        "- Pick two classes and make QuickDraw a binary classification problem, how does your model architecture change?\n",
        "- Implement Cross Validation model evaluation on your Quickdraw implementation \n",
        "\n",
        "Watch some more videos on Gradient Descent:\n",
        "- [Gradient Descent, Step-by-Step](https://www.youtube.com/watch?v=sDv4f4s2SB8)  by StatQuest w/ Josh Starmer. This will help you understand the gradient descent based optimization that happens underneath the hood of neural networks. It uses a non-neural network example, which I believe is a gentler introduction. You will hear me refer to this technique as \"vanilla\" gradient descent. \n",
        "- [Stochastic Gradient Descent, Clearly Explained!!!](https://www.youtube.com/watch?v=vMh0zPT0tLI) by StatQuest w/ Josh Starmer. This builds on the techniques in the previous video.  This technique is the one that is actually implemented inside modern 'nets. \n",
        "- [Siraj Raval the evolution of gradient descent](https://www.youtube.com/watch?v=nhqo0u1a6fw)"
      ]
    }
  ]
}